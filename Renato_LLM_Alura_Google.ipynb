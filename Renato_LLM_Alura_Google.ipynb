{
  "nbformat": 4,
  "nbformat_minor": 0,
  "metadata": {
    "colab": {
      "provenance": [],
      "authorship_tag": "ABX9TyM9jkPC8ZpEzx6G9F/Z2xyw",
      "include_colab_link": true
    },
    "kernelspec": {
      "name": "python3",
      "display_name": "Python 3"
    },
    "language_info": {
      "name": "python"
    }
  },
  "cells": [
    {
      "cell_type": "markdown",
      "metadata": {
        "id": "view-in-github",
        "colab_type": "text"
      },
      "source": [
        "<a href=\"https://colab.research.google.com/github/renatohvo/Renato_LLM-Alura_Google/blob/main/Renato_LLM_Alura_Google.ipynb\" target=\"_parent\"><img src=\"https://colab.research.google.com/assets/colab-badge.svg\" alt=\"Open In Colab\"/></a>"
      ]
    },
    {
      "cell_type": "markdown",
      "source": [
        "Instalando o SDK do Google\n"
      ],
      "metadata": {
        "id": "KC1UE12-_Mod"
      }
    },
    {
      "cell_type": "code",
      "execution_count": null,
      "metadata": {
        "id": "9OEoeosRTv-5"
      },
      "outputs": [],
      "source": [
        "!pip install -q -U google-generativeai"
      ]
    },
    {
      "cell_type": "code",
      "execution_count": null,
      "metadata": {
        "id": "ab9ASynfcIZn"
      },
      "outputs": [],
      "source": [
        "import google.generativeai as genai\n",
        "\n",
        "from google.colab import userdata\n",
        "api_key = userdata.get(\"SECRET_KEY\")\n",
        "\n",
        "genai.configure(api_key=api_key)"
      ]
    },
    {
      "cell_type": "markdown",
      "source": [
        "Listar os modelos disponíveis"
      ],
      "metadata": {
        "id": "BBafBAbTBmSi"
      }
    },
    {
      "cell_type": "code",
      "source": [
        "for m in genai.list_models():\n",
        "  if 'generateContent' in m.supported_generation_methods:\n",
        "    print(m.name)"
      ],
      "metadata": {
        "colab": {
          "base_uri": "https://localhost:8080/",
          "height": 139
        },
        "id": "ciXPVikP_ucO",
        "outputId": "8aa1d3ae-d2b3-4455-b09e-214a493bb652"
      },
      "execution_count": null,
      "outputs": [
        {
          "output_type": "stream",
          "name": "stdout",
          "text": [
            "models/gemini-1.0-pro\n",
            "models/gemini-1.0-pro-001\n",
            "models/gemini-1.0-pro-latest\n",
            "models/gemini-1.0-pro-vision-latest\n",
            "models/gemini-1.5-pro-latest\n",
            "models/gemini-pro\n",
            "models/gemini-pro-vision\n"
          ]
        }
      ]
    },
    {
      "cell_type": "code",
      "source": [
        "# Set up the model\n",
        "generation_config = {\n",
        "  \"temperature\": 0.5,\n",
        "  \"candidate_count\": 1,\n",
        "  \"top_k\": 32,\n",
        "  \"max_output_tokens\": 1024,\n",
        "}"
      ],
      "metadata": {
        "id": "nNiMbtcGAq7K"
      },
      "execution_count": null,
      "outputs": []
    },
    {
      "cell_type": "code",
      "source": [
        "safety_settings = {\n",
        "  \"HARASSMENT\": \"BLOCK_MEDIUM_AND_ABOVE\",\n",
        "  \"HATE\": \"BLOCK_MEDIUM_AND_ABOVE\",\n",
        "  \"SEXUAL\": \"BLOCK_MEDIUM_AND_ABOVE\",\n",
        "  \"DANGEROUS\": \"BLOCK_MEDIUM_AND_ABOVE\",\n",
        "}"
      ],
      "metadata": {
        "id": "FJePv2ZQA66A"
      },
      "execution_count": null,
      "outputs": []
    },
    {
      "cell_type": "markdown",
      "source": [
        "Inicializando o modelo"
      ],
      "metadata": {
        "id": "VOOX98cEBx3c"
      }
    },
    {
      "cell_type": "code",
      "source": [
        "model = genai.GenerativeModel(model_name=\"gemini-1.0-pro\",\n",
        "                              generation_config=generation_config,\n",
        "                              safety_settings=safety_settings)"
      ],
      "metadata": {
        "id": "gnYbWI4DB62Y"
      },
      "execution_count": null,
      "outputs": []
    },
    {
      "cell_type": "code",
      "source": [
        "response = model.generate_content(\"Vamos aprender conteúdo sobre IA. Me dê sugestões.\")\n",
        "print(response.text)"
      ],
      "metadata": {
        "colab": {
          "base_uri": "https://localhost:8080/",
          "height": 746
        },
        "id": "5ehlYL5zCTG6",
        "outputId": "2554893b-cbe1-4638-853e-c10bb0501c30"
      },
      "execution_count": null,
      "outputs": [
        {
          "output_type": "stream",
          "name": "stdout",
          "text": [
            "**Conceitos Fundamentais**\n",
            "\n",
            "* Definição e história da Inteligência Artificial (IA)\n",
            "* Tipos de IA: aprendizado de máquina, aprendizado profundo, processamento de linguagem natural\n",
            "* Algoritmos de aprendizado de máquina: supervisão, não supervisão, reforço\n",
            "* Redes neurais e aprendizado profundo\n",
            "\n",
            "**Aplicações da IA**\n",
            "\n",
            "* Reconhecimento de imagem e vídeo\n",
            "* Processamento de linguagem natural (PNL)\n",
            "* Veículos autônomos\n",
            "* Assistentes virtuais\n",
            "* Diagnóstico médico\n",
            "* Automação de processos\n",
            "\n",
            "**Ética e Implicações Sociais da IA**\n",
            "\n",
            "* Viés e discriminação em algoritmos de IA\n",
            "* Perda de empregos devido à automação\n",
            "* Implicações éticas do uso da IA em vigilância e tomada de decisão\n",
            "* Regulamentações e políticas para governar a IA\n",
            "\n",
            "**Técnicas e Ferramentas de IA**\n",
            "\n",
            "* Linguagens de programação para IA (Python, R)\n",
            "* Bibliotecas e frameworks de IA (TensorFlow, PyTorch)\n",
            "* Plataformas de computação em nuvem para IA (AWS, Azure, GCP)\n",
            "* Ferramentas de visualização e depuração para IA\n",
            "\n",
            "**Tendências e Pesquisas em IA**\n",
            "\n",
            "* Aprendizado de máquina generalizado\n",
            "* IA explicável e interpretável\n",
            "* IA quântica\n",
            "* IA para o bem social\n",
            "\n",
            "**Recursos Adicionais**\n",
            "\n",
            "* **Cursos online:** Coursera, edX, Udemy\n",
            "* **Livros:** \"Inteligência Artificial: Uma Abordagem Moderna\" (Stuart Russell e Peter Norvig), \"Aprendizado Profundo\" (Ian Goodfellow, Yoshua Bengio e Aaron Courville)\n",
            "* **Revistas e conferências:** Nature Machine Intelligence, NeurIPS, ICML\n"
          ]
        }
      ]
    },
    {
      "cell_type": "code",
      "source": [
        "chat = model.start_chat(history=[])"
      ],
      "metadata": {
        "id": "Svj6ZYOJEJQo"
      },
      "execution_count": null,
      "outputs": []
    },
    {
      "cell_type": "code",
      "source": [
        "prompt = input(\"Esperando prompt: \")\n",
        "\n",
        "while prompt != \"fim\":\n",
        "  response = chat.send_message(prompt)\n",
        "  print(\"Resposta: \", response.text, \"\\n\")\n",
        "  prompt = input(\"Esperando prompt: \")"
      ],
      "metadata": {
        "id": "jU0XoAd8EQn8",
        "colab": {
          "base_uri": "https://localhost:8080/",
          "height": 836
        },
        "outputId": "8809dd2d-e90b-479e-b576-6f0fbcc24be5"
      },
      "execution_count": null,
      "outputs": [
        {
          "name": "stdout",
          "output_type": "stream",
          "text": [
            "Esperando prompt: Qual a capital de Pernambuco?\n",
            "Resposta:  Recife \n",
            "\n",
            "Esperando prompt: Me fale sobre a sua cultura.\n",
            "Resposta:  **Cultura de Pernambuco**\n",
            "\n",
            "Pernambuco, um estado do Nordeste do Brasil, possui uma rica e vibrante cultura influenciada por suas raízes indígenas, africanas e europeias.\n",
            "\n",
            "**Música e Dança:**\n",
            "\n",
            "* **Frevo:** Um ritmo musical e dança rápidos e sincopados, considerado o símbolo cultural de Pernambuco.\n",
            "* **Maracatu:** Uma dança e música tradicional de origem africana, caracterizada por tambores e fantasias elaboradas.\n",
            "* **Forró:** Um gênero musical e dança popular, originário do sertão nordestino.\n",
            "\n",
            "**Literatura:**\n",
            "\n",
            "* Pernambuco é o berço de alguns dos escritores mais famosos do Brasil, incluindo:\n",
            "    * Ariano Suassuna\n",
            "    * Gilberto Freyre\n",
            "    * João Cabral de Melo Neto\n",
            "\n",
            "**Artesanato:**\n",
            "\n",
            "* **Cerâmica de Caruaru:** Cerâmica colorida e intrincada, famosa por seus bonecos de barro.\n",
            "* **Renda de bilro:** Renda delicada feita à mão, uma tradição passada de geração em geração.\n",
            "* **Couro de Petrolina:** Produtos de couro feitos à mão, como bolsas, sapatos e cintos.\n",
            "\n",
            "**Culinária:**\n",
            "\n",
            "* **Baião de dois:** Um prato tradicional feito com feijão, arroz e carne seca.\n",
            "* **Moqueca de peixe:** Um ensopado de peixe com leite de coco e especiarias.\n",
            "* **Tapioca:** Uma panqueca fina feita com farinha de mandioca.\n",
            "\n",
            "**Festas e Tradições:**\n",
            "\n",
            "* **Carnaval de Recife e Olinda:** Uma das maiores e mais animadas celebrações de carnaval do mundo, conhecida por seus desfiles e blocos de rua.\n",
            "* **Bumba meu boi:** Uma encenação folclórica que retrata a história de um boi morto e ressuscitado.\n",
            "* **Festa de São João:** Uma celebração anual em homenagem a São João Batista, com fogueiras, comidas típicas e quadrilhas.\n",
            "\n",
            "**Influências:**\n",
            "\n",
            "A cultura de Pernambuco é uma fusão única de influências indígenas, africanas e europeias. Os povos indígenas contribuíram com seus costumes, crenças e rituais. Os africanos trouxeram sua música, dança e religiões. Os europeus, particularmente os portugueses, introduziram sua língua, arquitetura e tradições.\n",
            "\n",
            "Hoje, a cultura de Pernambuco continua a evoluir e se adaptar, incorporando novas influências e mantendo vivas suas tradições ancestrais. \n",
            "\n",
            "Esperando prompt: fim\n"
          ]
        }
      ]
    },
    {
      "cell_type": "code",
      "source": [
        "# Melhorando a visualização\n",
        "import pathlib\n",
        "import textwrap\n",
        "from IPython.display import display\n",
        "from IPython.display import Markdown\n",
        "\n",
        "def to_markdown(text):\n",
        "  text = text.replace('•', '  *')\n",
        "  return Markdown(textwrap.indent(text, '> ', predicate=lambda _: True))\n",
        "\n",
        "# Imprimindo histórico\n",
        "for message in chat.history:\n",
        "  display(to_markdown(f'**{message.role}**: {message.parts[0].text}'))\n",
        "  print(\"-----------------------------------------------------------\")"
      ],
      "metadata": {
        "colab": {
          "base_uri": "https://localhost:8080/",
          "height": 827
        },
        "id": "THCu9qDyKhT4",
        "outputId": "4ec34265-1053-47fc-ece9-ae0e539a6037"
      },
      "execution_count": null,
      "outputs": [
        {
          "output_type": "display_data",
          "data": {
            "text/plain": [
              "<IPython.core.display.Markdown object>"
            ],
            "text/markdown": "> **user**: Qual a capital de Pernambuco?"
          },
          "metadata": {}
        },
        {
          "output_type": "stream",
          "name": "stdout",
          "text": [
            "-----------------------------------------------------------\n"
          ]
        },
        {
          "output_type": "display_data",
          "data": {
            "text/plain": [
              "<IPython.core.display.Markdown object>"
            ],
            "text/markdown": "> **model**: Recife"
          },
          "metadata": {}
        },
        {
          "output_type": "stream",
          "name": "stdout",
          "text": [
            "-----------------------------------------------------------\n"
          ]
        },
        {
          "output_type": "display_data",
          "data": {
            "text/plain": [
              "<IPython.core.display.Markdown object>"
            ],
            "text/markdown": "> **user**: Me fale sobre a sua cultura."
          },
          "metadata": {}
        },
        {
          "output_type": "stream",
          "name": "stdout",
          "text": [
            "-----------------------------------------------------------\n"
          ]
        },
        {
          "output_type": "display_data",
          "data": {
            "text/plain": [
              "<IPython.core.display.Markdown object>"
            ],
            "text/markdown": "> **model**: **Cultura de Pernambuco**\n> \n> Pernambuco, um estado do Nordeste do Brasil, possui uma rica e vibrante cultura influenciada por suas raízes indígenas, africanas e europeias.\n> \n> **Música e Dança:**\n> \n> * **Frevo:** Um ritmo musical e dança rápidos e sincopados, considerado o símbolo cultural de Pernambuco.\n> * **Maracatu:** Uma dança e música tradicional de origem africana, caracterizada por tambores e fantasias elaboradas.\n> * **Forró:** Um gênero musical e dança popular, originário do sertão nordestino.\n> \n> **Literatura:**\n> \n> * Pernambuco é o berço de alguns dos escritores mais famosos do Brasil, incluindo:\n>     * Ariano Suassuna\n>     * Gilberto Freyre\n>     * João Cabral de Melo Neto\n> \n> **Artesanato:**\n> \n> * **Cerâmica de Caruaru:** Cerâmica colorida e intrincada, famosa por seus bonecos de barro.\n> * **Renda de bilro:** Renda delicada feita à mão, uma tradição passada de geração em geração.\n> * **Couro de Petrolina:** Produtos de couro feitos à mão, como bolsas, sapatos e cintos.\n> \n> **Culinária:**\n> \n> * **Baião de dois:** Um prato tradicional feito com feijão, arroz e carne seca.\n> * **Moqueca de peixe:** Um ensopado de peixe com leite de coco e especiarias.\n> * **Tapioca:** Uma panqueca fina feita com farinha de mandioca.\n> \n> **Festas e Tradições:**\n> \n> * **Carnaval de Recife e Olinda:** Uma das maiores e mais animadas celebrações de carnaval do mundo, conhecida por seus desfiles e blocos de rua.\n> * **Bumba meu boi:** Uma encenação folclórica que retrata a história de um boi morto e ressuscitado.\n> * **Festa de São João:** Uma celebração anual em homenagem a São João Batista, com fogueiras, comidas típicas e quadrilhas.\n> \n> **Influências:**\n> \n> A cultura de Pernambuco é uma fusão única de influências indígenas, africanas e europeias. Os povos indígenas contribuíram com seus costumes, crenças e rituais. Os africanos trouxeram sua música, dança e religiões. Os europeus, particularmente os portugueses, introduziram sua língua, arquitetura e tradições.\n> \n> Hoje, a cultura de Pernambuco continua a evoluir e se adaptar, incorporando novas influências e mantendo vivas suas tradições ancestrais."
          },
          "metadata": {}
        },
        {
          "output_type": "stream",
          "name": "stdout",
          "text": [
            "-----------------------------------------------------------\n"
          ]
        }
      ]
    }
  ]
}